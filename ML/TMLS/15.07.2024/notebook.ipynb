{
  "cells": [
    {
      "cell_type": "code",
      "execution_count": 1,
      "metadata": {
        "executionStartTime": 1720571636907,
        "executionStopTime": 1720571639518,
        "id": "mlP0fMb1mjTY",
        "language": "python",
        "originalKey": "a45d8f0c-8223-4d24-9195-4dc03dbb22c6",
        "output": {
          "id": "1531931084410432"
        },
        "outputsInitialized": true,
        "requestMsgId": "a45d8f0c-8223-4d24-9195-4dc03dbb22c6",
        "serverExecutionDuration": 2031.7353606224
      },
      "outputs": [],
      "source": [
        "import torch"
      ]
    },
    {
      "cell_type": "code",
      "execution_count": 2,
      "metadata": {
        "colab": {
          "base_uri": "https://localhost:8080/"
        },
        "customInput": null,
        "executionStartTime": 1720574185714,
        "executionStopTime": 1720574186053,
        "id": "L-bP6DWXmjTZ",
        "language": "python",
        "originalKey": "3f804fed-6113-4fb8-a970-42805fb0a736",
        "output": {
          "id": "507809454917692"
        },
        "outputId": "f6da9285-1225-4e96-a0ac-b0b24080f42e",
        "outputsInitialized": true,
        "requestMsgId": "3f804fed-6113-4fb8-a970-42805fb0a736",
        "serverExecutionDuration": 12.233829125762,
        "showInput": true
      },
      "outputs": [
        {
          "data": {
            "text/plain": [
              "<torch._C.Generator at 0x7ac2f7f2b250>"
            ]
          },
          "execution_count": 2,
          "metadata": {},
          "output_type": "execute_result"
        }
      ],
      "source": [
        "torch.__version__\n",
        "torch.manual_seed(0)"
      ]
    },
    {
      "cell_type": "markdown",
      "metadata": {
        "id": "jRKGi7eInCd6"
      },
      "source": [
        "## vmap"
      ]
    },
    {
      "cell_type": "code",
      "execution_count": 3,
      "metadata": {
        "colab": {
          "base_uri": "https://localhost:8080/"
        },
        "customInput": null,
        "executionStartTime": 1720574379497,
        "executionStopTime": 1720574379755,
        "id": "j4oopKawmjTZ",
        "language": "python",
        "originalKey": "a81c85e2-2432-4447-9bba-93fc171f34c6",
        "output": {
          "id": "1000359341588238"
        },
        "outputId": "ef5eb2c8-2831-44b5-c7c5-bd237f2abf18",
        "outputsInitialized": true,
        "requestMsgId": "a81c85e2-2432-4447-9bba-93fc171f34c6",
        "serverExecutionDuration": 4.1556768119335,
        "showInput": true
      },
      "outputs": [
        {
          "name": "stdout",
          "output_type": "stream",
          "text": [
            "x_dot_y=tensor(-11.9096)\n"
          ]
        }
      ],
      "source": [
        "x: torch.Tensor = torch.randn(100)\n",
        "y: torch.Tensor = torch.randn(100)\n",
        "x_dot_y = torch.dot(x, y)\n",
        "print(f\"{x_dot_y=}\")"
      ]
    },
    {
      "cell_type": "code",
      "execution_count": 4,
      "metadata": {
        "colab": {
          "base_uri": "https://localhost:8080/",
          "height": 176
        },
        "customInput": null,
        "executionStartTime": 1720574380492,
        "executionStopTime": 1720574380720,
        "id": "QkSe20jMmjTZ",
        "language": "python",
        "originalKey": "adf5bba5-f414-43ba-9de4-d1e0829bee7a",
        "output": {
          "id": "1299562031416355"
        },
        "outputId": "d591bdd5-b484-4b91-8654-1226da2e1b57",
        "requestMsgId": "adf5bba5-f414-43ba-9de4-d1e0829bee7a",
        "serverExecutionDuration": 29.304319992661,
        "showInput": true
      },
      "outputs": [
        {
          "ename": "RuntimeError",
          "evalue": "1D tensors expected, but got 2D and 2D tensors",
          "output_type": "error",
          "traceback": [
            "\u001b[0;31m---------------------------------------------------------------------------\u001b[0m",
            "\u001b[0;31mRuntimeError\u001b[0m                              Traceback (most recent call last)",
            "\u001b[0;32m<ipython-input-4-c171850dec5b>\u001b[0m in \u001b[0;36m<cell line: 3>\u001b[0;34m()\u001b[0m\n\u001b[1;32m      1\u001b[0m \u001b[0mx\u001b[0m\u001b[0;34m:\u001b[0m \u001b[0mtorch\u001b[0m\u001b[0;34m.\u001b[0m\u001b[0mTensor\u001b[0m \u001b[0;34m=\u001b[0m \u001b[0mtorch\u001b[0m\u001b[0;34m.\u001b[0m\u001b[0mrandn\u001b[0m\u001b[0;34m(\u001b[0m\u001b[0;36m10\u001b[0m\u001b[0;34m,\u001b[0m \u001b[0;36m100\u001b[0m\u001b[0;34m)\u001b[0m\u001b[0;34m\u001b[0m\u001b[0;34m\u001b[0m\u001b[0m\n\u001b[1;32m      2\u001b[0m \u001b[0my\u001b[0m\u001b[0;34m:\u001b[0m \u001b[0mtorch\u001b[0m\u001b[0;34m.\u001b[0m\u001b[0mTensor\u001b[0m \u001b[0;34m=\u001b[0m \u001b[0mtorch\u001b[0m\u001b[0;34m.\u001b[0m\u001b[0mrandn\u001b[0m\u001b[0;34m(\u001b[0m\u001b[0;36m10\u001b[0m\u001b[0;34m,\u001b[0m \u001b[0;36m100\u001b[0m\u001b[0;34m)\u001b[0m\u001b[0;34m\u001b[0m\u001b[0;34m\u001b[0m\u001b[0m\n\u001b[0;32m----> 3\u001b[0;31m \u001b[0mx_dot_y\u001b[0m \u001b[0;34m=\u001b[0m \u001b[0mtorch\u001b[0m\u001b[0;34m.\u001b[0m\u001b[0mdot\u001b[0m\u001b[0;34m(\u001b[0m\u001b[0mx\u001b[0m\u001b[0;34m,\u001b[0m \u001b[0my\u001b[0m\u001b[0;34m)\u001b[0m\u001b[0;34m\u001b[0m\u001b[0;34m\u001b[0m\u001b[0m\n\u001b[0m",
            "\u001b[0;31mRuntimeError\u001b[0m: 1D tensors expected, but got 2D and 2D tensors"
          ]
        }
      ],
      "source": [
        "x: torch.Tensor = torch.randn(10, 100)\n",
        "y: torch.Tensor = torch.randn(10, 100)\n",
        "x_dot_y = torch.dot(x, y)"
      ]
    },
    {
      "cell_type": "code",
      "execution_count": null,
      "metadata": {
        "customInput": null,
        "executionStartTime": 1720574414782,
        "executionStopTime": 1720574414975,
        "id": "CBIciIa4mjTZ",
        "language": "python",
        "originalKey": "6d85c0ba-f06d-4a6b-a50f-62cb187b76fd",
        "output": {
          "id": "504503275578025"
        },
        "outputsInitialized": true,
        "requestMsgId": "6d85c0ba-f06d-4a6b-a50f-62cb187b76fd",
        "serverExecutionDuration": 18.312143161893,
        "showInput": true
      },
      "outputs": [],
      "source": [
        "x: torch.Tensor = torch.randn(10, 100)\n",
        "y: torch.Tensor = torch.randn(10, 100)\n",
        "x_dot_y = torch.ones(10)\n",
        "for i in range(x.shape[0]):\n",
        "    x_dot_y[i] = torch.dot(x[i], y[i])\n",
        "print(f\"{x_dot_y=}\")"
      ]
    },
    {
      "cell_type": "code",
      "execution_count": null,
      "metadata": {
        "customInput": null,
        "executionStartTime": 1720574452725,
        "executionStopTime": 1720574452926,
        "id": "XMd7aaVtmjTa",
        "language": "python",
        "originalKey": "76e2c991-6d6e-4865-9fe3-acb5e0ffafc2",
        "output": {
          "id": "7344656775638262"
        },
        "outputsInitialized": true,
        "requestMsgId": "76e2c991-6d6e-4865-9fe3-acb5e0ffafc2",
        "serverExecutionDuration": 25.913508608937,
        "showInput": true
      },
      "outputs": [],
      "source": [
        "batched_dot_product = torch.func.vmap(torch.dot)\n",
        "x_dot_y_using_vmap = batched_dot_product(x, y)\n",
        "print(f\"{x_dot_y_using_vmap=}\")"
      ]
    },
    {
      "cell_type": "code",
      "execution_count": null,
      "metadata": {
        "customInput": null,
        "executionStartTime": 1720574477557,
        "executionStopTime": 1720574478152,
        "id": "Y0hLSCqPmjTa",
        "language": "python",
        "originalKey": "9439ff40-7de4-4a99-813a-7328ef52f4f6",
        "outputsInitialized": true,
        "requestMsgId": "9439ff40-7de4-4a99-813a-7328ef52f4f6",
        "serverExecutionDuration": 3.7633646279573,
        "showInput": true
      },
      "outputs": [],
      "source": [
        "assert torch.allclose(x_dot_y, x_dot_y_using_vmap)"
      ]
    },
    {
      "cell_type": "markdown",
      "metadata": {
        "id": "Z4gXiCaLnHff"
      },
      "source": [
        "## grad"
      ]
    },
    {
      "cell_type": "code",
      "execution_count": null,
      "metadata": {
        "customInput": null,
        "executionStartTime": 1720574932909,
        "executionStopTime": 1720574940743,
        "id": "cFJv4ZLGmjTb",
        "language": "python",
        "originalKey": "5a205a05-8ab5-41fe-ba06-59614427c182",
        "outputsInitialized": true,
        "requestMsgId": "5a205a05-8ab5-41fe-ba06-59614427c182",
        "serverExecutionDuration": 7635.5304773897,
        "showInput": true
      },
      "outputs": [],
      "source": [
        "sin_x = lambda x: torch.sin(x)\n",
        "grad_sin_x = torch.func.grad(sin_x)\n",
        "x = torch.randn([])\n",
        "assert torch.allclose(grad_sin_x(x), x.cos())"
      ]
    },
    {
      "cell_type": "code",
      "execution_count": null,
      "metadata": {
        "customInput": null,
        "executionStartTime": 1720574974749,
        "executionStopTime": 1720574974984,
        "id": "zq540h5JmjTb",
        "language": "python",
        "originalKey": "d1cc485e-20ae-40f1-b743-b9934d173974",
        "outputsInitialized": true,
        "requestMsgId": "d1cc485e-20ae-40f1-b743-b9934d173974",
        "serverExecutionDuration": 11.633507907391,
        "showInput": true
      },
      "outputs": [],
      "source": [
        "grad_grad_sin_x = torch.func.grad(grad_sin_x)\n",
        "assert torch.allclose(grad_grad_sin_x(x), -x.sin())"
      ]
    },
    {
      "cell_type": "markdown",
      "metadata": {
        "id": "tQ49GtkinLVj"
      },
      "source": [
        "# grad + vmap"
      ]
    },
    {
      "cell_type": "code",
      "execution_count": null,
      "metadata": {
        "customInput": null,
        "executionStartTime": 1720579503719,
        "executionStopTime": 1720579503964,
        "id": "6oUVmqUOmjTb",
        "language": "python",
        "originalKey": "571804fd-140e-4cbe-b68b-5557732fe7f0",
        "outputsInitialized": true,
        "requestMsgId": "571804fd-140e-4cbe-b68b-5557732fe7f0",
        "serverExecutionDuration": 3.2627005130053,
        "showInput": true
      },
      "outputs": [],
      "source": [
        "from torch.func import grad, vmap\n",
        "\n",
        "batch_size, feature_size = 3, 5\n",
        "\n",
        "def model(weights: torch.Tensor, feature_vec: torch.Tensor) -> torch.Tensor:\n",
        "    return feature_vec.dot(weights).relu()\n",
        "\n",
        "def compute_loss(weights: torch.Tensor, example: torch.Tensor, target: torch.Tensor) -> torch.Tensor:\n",
        "    y = model(weights, example)\n",
        "    return ((y - target) ** 2).mean()  # MSELoss'\n",
        "\n",
        "weights = torch.randn(feature_size, requires_grad=True)\n",
        "examples = torch.randn(batch_size, feature_size)\n",
        "targets = torch.randn(batch_size)"
      ]
    },
    {
      "cell_type": "code",
      "execution_count": null,
      "metadata": {
        "customInput": null,
        "executionStartTime": 1720579627335,
        "executionStopTime": 1720579627554,
        "id": "_BBvWwcxmjTc",
        "language": "python",
        "originalKey": "be141a39-8a60-4d08-8dab-973178c01d69",
        "output": {
          "id": "778098094202672"
        },
        "outputsInitialized": true,
        "requestMsgId": "be141a39-8a60-4d08-8dab-973178c01d69",
        "serverExecutionDuration": 16.7585760355,
        "showInput": true
      },
      "outputs": [],
      "source": [
        "inputs = (weights, examples, targets)\n",
        "grad_of_loss = grad(compute_loss)\n",
        "grad_of_loss_per_sample = vmap(grad_of_loss, in_dims=(None, 0, 0))\n",
        "\n",
        "grad_weight_per_example = grad_of_loss_per_sample(*inputs)\n",
        "print(grad_weight_per_example)"
      ]
    },
    {
      "cell_type": "markdown",
      "metadata": {
        "id": "O4TJQhO7nPDf"
      },
      "source": [
        "# functional_call"
      ]
    },
    {
      "cell_type": "code",
      "execution_count": null,
      "metadata": {
        "customInput": null,
        "executionStartTime": 1720578093202,
        "executionStopTime": 1720578093426,
        "id": "EtGy92kbmjTc",
        "language": "python",
        "originalKey": "ca452408-9cf3-41ce-b664-c4cb3e85ca48",
        "outputsInitialized": true,
        "requestMsgId": "ca452408-9cf3-41ce-b664-c4cb3e85ca48",
        "serverExecutionDuration": 10.244118049741,
        "showInput": true
      },
      "outputs": [],
      "source": [
        "x = torch.randn(4, 3)\n",
        "t = torch.randn(4, 3)\n",
        "\n",
        "model = torch.nn.Linear(3, 3)\n",
        "\n",
        "params = dict(model.named_parameters())\n",
        "y = torch.func.functional_call(model, params, x)\n",
        "\n",
        "assert torch.allclose(y, model(x))"
      ]
    },
    {
      "cell_type": "code",
      "execution_count": null,
      "metadata": {
        "customInput": null,
        "executionStartTime": 1720578030437,
        "executionStopTime": 1720578030658,
        "id": "4kO4t1xkmjTc",
        "language": "python",
        "originalKey": "82604f65-99d1-40b4-a3f8-5a0d914072e3",
        "outputsInitialized": true,
        "requestMsgId": "82604f65-99d1-40b4-a3f8-5a0d914072e3",
        "serverExecutionDuration": 32.674502581358,
        "showInput": true
      },
      "outputs": [],
      "source": [
        "def compute_loss(\n",
        "    params: dict[str, torch.Tensor], x: torch.Tensor, t: torch.Tensor\n",
        ") -> torch.Tensor:\n",
        "    y = torch.func.functional_call(model, params, x)\n",
        "    return torch.nn.functional.mse_loss(y, t)\n",
        "\n",
        "\n",
        "grad_of_loss = grad(compute_loss)\n",
        "grad_weights = grad_of_loss(dict(model.named_parameters()), x, t)"
      ]
    },
    {
      "cell_type": "code",
      "execution_count": null,
      "metadata": {
        "customInput": null,
        "executionStartTime": 1720579870129,
        "executionStopTime": 1720579870416,
        "id": "Fr8FEqmvmjTc",
        "language": "python",
        "originalKey": "c58a7167-f491-4b36-9d25-cd34ddf2eaac",
        "outputsInitialized": true,
        "requestMsgId": "c58a7167-f491-4b36-9d25-cd34ddf2eaac",
        "serverExecutionDuration": 5.4750088602304,
        "showInput": true
      },
      "outputs": [],
      "source": [
        "num_models = 5\n",
        "batch_size = 64\n",
        "in_features, out_features = 3, 3\n",
        "models = [torch.nn.Linear(in_features, out_features) for i in range(num_models)]\n",
        "data = torch.randn(batch_size, 3)"
      ]
    },
    {
      "cell_type": "markdown",
      "metadata": {
        "id": "uCXDtQ3hnRkM"
      },
      "source": [
        "# stack_module_state"
      ]
    },
    {
      "cell_type": "code",
      "execution_count": null,
      "metadata": {
        "customInput": null,
        "executionStartTime": 1720579929969,
        "executionStopTime": 1720579930197,
        "id": "Ku9G6iQYmjTc",
        "language": "python",
        "originalKey": "d9980dbc-6b2a-4cae-8fa5-7794ea623f1e",
        "outputsInitialized": true,
        "requestMsgId": "d9980dbc-6b2a-4cae-8fa5-7794ea623f1e",
        "serverExecutionDuration": 9.8239965736866,
        "showInput": true
      },
      "outputs": [],
      "source": [
        "def forward_call(params, buffers, data):\n",
        "    return torch.func.functional_call(models[0], (params, buffers), data)\n",
        "\n",
        "vmap_forward_call = vmap(forward_call, (0, 0, None))\n",
        "\n",
        "params, buffers = torch.func.stack_module_state(models)\n",
        "\n",
        "output = vmap_forward_call(params, buffers, data)\n",
        "\n",
        "assert output.shape == (num_models, batch_size, out_features)"
      ]
    }
  ],
  "metadata": {
    "bento_stylesheets": {
      "bento/extensions/flow/main.css": true,
      "bento/extensions/kernel_selector/main.css": true,
      "bento/extensions/kernel_ui/main.css": true,
      "bento/extensions/new_kernel/main.css": true,
      "bento/extensions/system_usage/main.css": true,
      "bento/extensions/theme/main.css": true
    },
    "colab": {
      "provenance": []
    },
    "kernelspec": {
      "display_name": "pytorch",
      "isCinder": true,
      "language": "python",
      "metadata": {
        "cinder_runtime": true,
        "default_tagged_version": "2316",
        "fbpkg_supported": true,
        "is_prebuilt": true,
        "kernel_name": "bento_kernel_pytorch",
        "kernel_version": "2316",
        "nightly_builds": true
      },
      "name": "bento_kernel_pytorch"
    },
    "language_info": {
      "codemirror_mode": {
        "name": "ipython",
        "version": 3
      },
      "file_extension": ".py",
      "mimetype": "text/x-python",
      "name": "python",
      "nbconvert_exporter": "python",
      "pygments_lexer": "ipython3"
    },
    "last_base_url": "https://bento.edge.x2p.facebook.net/",
    "last_kernel_id": "64513fca-d9bb-47dd-93fe-7699b5eb21f0",
    "last_msg_id": "45f6da6d-c407c804b669f2fbe2a9c971_1619",
    "last_server_session_id": "89ab19ea-e40c-4c99-8f73-1a32bbab69de",
    "outputWidgetContext": []
  },
  "nbformat": 4,
  "nbformat_minor": 0
}
